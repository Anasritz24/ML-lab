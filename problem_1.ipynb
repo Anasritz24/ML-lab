{
  "nbformat": 4,
  "nbformat_minor": 0,
  "metadata": {
    "colab": {
      "provenance": [],
      "authorship_tag": "ABX9TyOzI8k5OKVevHNJZe+FsRX7",
      "include_colab_link": true
    },
    "kernelspec": {
      "name": "python3",
      "display_name": "Python 3"
    },
    "language_info": {
      "name": "python"
    }
  },
  "cells": [
    {
      "cell_type": "markdown",
      "metadata": {
        "id": "view-in-github",
        "colab_type": "text"
      },
      "source": [
        "<a href=\"https://colab.research.google.com/github/Anasritz24/whisper-read-nsakcet/blob/main/problem_1.ipynb\" target=\"_parent\"><img src=\"https://colab.research.google.com/assets/colab-badge.svg\" alt=\"Open In Colab\"/></a>"
      ]
    },
    {
      "cell_type": "code",
      "execution_count": null,
      "metadata": {
        "colab": {
          "base_uri": "https://localhost:8080/"
        },
        "id": "bWC_sjUH5eBq",
        "outputId": "ad5bfd55-d76f-4605-ee04-d1d93b886d97"
      },
      "outputs": [
        {
          "output_type": "stream",
          "name": "stdout",
          "text": [
            "<class 'int'>\n",
            "syed anas\n",
            "<class 'str'>\n"
          ]
        }
      ],
      "source": [
        "x = 5\n",
        "print(type(x))\n",
        "\n",
        "x = str(\"syed anas\")\n",
        "print(x)\n",
        "print(type(x))"
      ]
    },
    {
      "cell_type": "code",
      "source": [
        "num1 = input('Enter first number: ')\n",
        "num2 = input('Enter second number: ')\n",
        "\n",
        "sum = float(num1) + float(num2)\n",
        "sub = float(num1) - float(num2)\n",
        "mul = float(num1) * float(num2)\n",
        "div = float(num1) / float(num2)\n",
        "\n",
        "print('The sum of {0} and {1} is {2}'.format(num1, num2, sum))\n",
        "\n",
        "print('The subtraction of {0} and {1} is {2}'.format(num1, num2, sub))\n",
        "\n",
        "print('The multiplication of {0} and {1} is {2}'.format(num1, num2, mul))\n",
        "\n",
        "print ('The division of {0} and {1} is {2}'.format(num1, num2, div))"
      ],
      "metadata": {
        "colab": {
          "base_uri": "https://localhost:8080/"
        },
        "id": "rVqRVJG964TW",
        "outputId": "de738f04-2b8c-4a2d-97e7-72899242af5b"
      },
      "execution_count": null,
      "outputs": [
        {
          "output_type": "stream",
          "name": "stdout",
          "text": [
            "Enter first number: 1\n",
            "Enter second number: 5\n",
            "The sum of 1 and 5 is 6.0\n",
            "The subtraction of 1 and 5 is -4.0\n",
            "The multiplication of 1 and 5 is 5.0\n",
            "The division of 1 and 5 is 0.2\n"
          ]
        }
      ]
    },
    {
      "cell_type": "code",
      "source": [
        "x = \"Python \"\n",
        "y= \"is\"\n",
        "z = \"awesome\"\n",
        "print(x + y + z)"
      ],
      "metadata": {
        "colab": {
          "base_uri": "https://localhost:8080/"
        },
        "id": "rsp9ybfK7SR2",
        "outputId": "41c9b2b8-0645-4591-87cf-3f8ceb07a9a5"
      },
      "execution_count": null,
      "outputs": [
        {
          "output_type": "stream",
          "name": "stdout",
          "text": [
            "Python isawesome\n"
          ]
        }
      ]
    },
    {
      "cell_type": "code",
      "source": [
        "#append method\n",
        "a= [25,\"vinay\",45,217]\n",
        "a. append(\"rohit\")\n",
        "print(a)\n",
        "\n",
        "#extend method\n",
        "b=[2,45,101]\n",
        "b.extend([\"sunny\",\"sandeep\",\"shashanka\"])\n",
        "print(b)\n",
        "\n",
        "#pop method for remove an element\n",
        "d=[12,34,56,78,89,0]\n",
        "d.pop()\n",
        "print(d)\n"
      ],
      "metadata": {
        "colab": {
          "base_uri": "https://localhost:8080/"
        },
        "id": "2S8Un_xr7YAI",
        "outputId": "1e027f3f-23be-421d-cd2a-a44b9bb6c2ab"
      },
      "execution_count": null,
      "outputs": [
        {
          "output_type": "stream",
          "name": "stdout",
          "text": [
            "[25, 'vinay', 45, 217, 'rohit']\n",
            "[2, 45, 101, 'sunny', 'sandeep', 'shashanka']\n",
            "[12, 34, 56, 78, 89]\n"
          ]
        }
      ]
    },
    {
      "cell_type": "code",
      "source": [
        "#empty tuple\n",
        "t= ()\n",
        "print(t)\n",
        "\n",
        "tup = ('python','Java')\n",
        "print(tup)\n",
        "\n",
        "# concatenating 2 tuples\n",
        "tuple1 = (0, 1, 2, 3)\n",
        "tuple2 = ('python', 'GoEduhub')\n",
        "print(tuple1 + tuple2)\n",
        "\n",
        "#converting a list and a string into a tuple\n",
        "list1 = [0, 1, 2]\n",
        "print(tuple(list1))\n",
        "print(tuple('python'))\n",
        "\n",
        "#tuples in a loop\n",
        "tup = ('h','e','l', 'l', 'o')\n",
        "for i in tup:\n",
        "   print(i)"
      ],
      "metadata": {
        "colab": {
          "base_uri": "https://localhost:8080/"
        },
        "id": "Xa79xU4c7crJ",
        "outputId": "cbae1f01-f951-4c6b-b6ea-0070797f2f3d"
      },
      "execution_count": null,
      "outputs": [
        {
          "output_type": "stream",
          "name": "stdout",
          "text": [
            "()\n",
            "('python', 'Java')\n",
            "(0, 1, 2, 3, 'python', 'GoEduhub')\n",
            "(0, 1, 2)\n",
            "('p', 'y', 't', 'h', 'o', 'n')\n",
            "h\n",
            "e\n",
            "l\n",
            "l\n",
            "o\n"
          ]
        }
      ]
    },
    {
      "cell_type": "code",
      "source": [
        "#Create and print a dictionary :\n",
        "thisdict = {\n",
        "    \"brand\": \"Ford\",\n",
        "    \"model\": \"Mustang\",\n",
        "    \"year\": 1964\n",
        "}\n",
        "\n",
        "print(thisdict)\n",
        "\n",
        "#Dictionaries cannot have two items with the same key\n",
        "#Duplicate values will overwrite existing values\n",
        "thisdict = {\n",
        "    \"brand\": \"Ford\",\n",
        "    \"model\": \"Mustang\",\n",
        "    \"year\": 1964,\n",
        "    \"year\": 2020\n",
        "}\n",
        "print(thisdict)\n",
        "print(len(thisdict))\n",
        "\n",
        "#Accessing Items\n",
        "thisdict = {\n",
        "    \"brand\": \"Ford\",\n",
        "    \"model\": \"Mustang\",\n",
        "    \"year\": 1964\n",
        "}\n",
        "x = thisdict[\"model\"]\n",
        "print(x)"
      ],
      "metadata": {
        "colab": {
          "base_uri": "https://localhost:8080/"
        },
        "id": "KaP161FG7gHY",
        "outputId": "906deb88-5bf3-467b-8b4c-88ea22d735c2"
      },
      "execution_count": null,
      "outputs": [
        {
          "output_type": "stream",
          "name": "stdout",
          "text": [
            "{'brand': 'Ford', 'model': 'Mustang', 'year': 1964}\n",
            "{'brand': 'Ford', 'model': 'Mustang', 'year': 2020}\n",
            "3\n",
            "Mustang\n"
          ]
        }
      ]
    }
  ]
}